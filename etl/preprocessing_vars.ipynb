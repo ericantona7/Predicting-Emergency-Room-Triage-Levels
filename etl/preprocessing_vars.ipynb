{
 "cells": [
  {
   "cell_type": "code",
   "execution_count": null,
   "metadata": {},
   "outputs": [],
   "source": [
    "import pandas as pd\n",
    "\n",
    "df = pd.read_pickle('***')\n",
    "df_labels = pd.read_csv('***')"
   ]
  },
  {
   "cell_type": "code",
   "execution_count": null,
   "metadata": {},
   "outputs": [],
   "source": [
    "feature_set_ignore = ['***']\n",
    "\n",
    "feature_set_num=['***']\n",
    "\n",
    "feature_set_cat = ['***']\n",
    "\n",
    "target_feature = ['TRIAJ_New']\n",
    "\n",
    "# rename columns\n",
    "new_feature_set_ignore =['***']\n",
    "new_feature_set_num = ['***']\n",
    "new_target_feature = ['triage_level']\n",
    "\n",
    "df_labels = df_labels[feature_set_ignore + feature_set_cat + feature_set_num + target_feature]\n",
    "df_labels.columns = new_feature_set_ignore + new_feature_set_cat + new_feature_set_num + new_target_feature\n"
   ]
  },
  {
   "cell_type": "code",
   "execution_count": 3,
   "metadata": {},
   "outputs": [],
   "source": [
    "#convert features in df_labels to one hot encoding\n",
    "df_categorical_vars_raw= df_labels[new_feature_set_cat]\n",
    "df_categorical_vars = pd.get_dummies(df_categorical_vars_raw, columns=new_feature_set_cat)\n",
    "df_categorical_vars_np = df_categorical_vars.to_numpy()\n"
   ]
  },
  {
   "cell_type": "code",
   "execution_count": 4,
   "metadata": {},
   "outputs": [],
   "source": [
    "def preprocess_numericals(df,new_feature_set_num):\n",
    "    # preprocessing numerical features\n",
    "    df = df.fillna(0)\n",
    "    return df\n",
    "\n",
    "# preprocessing numerical features\n",
    "df_numerical_vars = df_labels[new_feature_set_num]\n",
    "df_numerical_vars = preprocess_numericals(df_numerical_vars, new_feature_set_num)\n",
    "df_numerical_vars_np = df_numerical_vars.to_numpy()"
   ]
  },
  {
   "cell_type": "code",
   "execution_count": 5,
   "metadata": {},
   "outputs": [
    {
     "name": "stderr",
     "output_type": "stream",
     "text": [
      "/Users/meyildirim/Desktop/Notebooks/Learning/master-thesis/etl/.venv/lib/python3.8/site-packages/urllib3/__init__.py:34: NotOpenSSLWarning: urllib3 v2 only supports OpenSSL 1.1.1+, currently the 'ssl' module is compiled with 'LibreSSL 2.8.3'. See: https://github.com/urllib3/urllib3/issues/3020\n",
      "  warnings.warn(\n",
      "/Users/meyildirim/Desktop/Notebooks/Learning/master-thesis/etl/.venv/lib/python3.8/site-packages/sklearn/preprocessing/_label.py:114: DataConversionWarning: A column-vector y was passed when a 1d array was expected. Please change the shape of y to (n_samples, ), for example using ravel().\n",
      "  y = column_or_1d(y, warn=True)\n"
     ]
    }
   ],
   "source": [
    "from sklearn.preprocessing import LabelEncoder\n",
    "from tensorflow.keras.utils import to_categorical\n",
    "from sklearn.model_selection import train_test_split\n",
    "\n",
    "# preprocessing target feature\n",
    "df_target = df_labels[new_target_feature]\n",
    "df_target_np = df_target.to_numpy()\n",
    "\n",
    "# Step 1: Convert string labels to integers\n",
    "label_encoder = LabelEncoder()\n",
    "y_int_labels = label_encoder.fit_transform(df_target_np)\n",
    "\n",
    "# Step 2: One-hot encode the integer labels\n",
    "y_one_hot_labels = to_categorical(y_int_labels, num_classes=3)\n"
   ]
  },
  {
   "cell_type": "code",
   "execution_count": null,
   "metadata": {},
   "outputs": [],
   "source": [
    "save_data(df_numerical_vars, '../pickles/input_data/df_numerical_vars.pkl')\n",
    "save_data(df_numerical_vars_np, '../pickles/input_data/df_numerical_vars_np.pkl')\n",
    "save_data(df_numerical_vars.columns, '../pickles/input_data/df_numerical_vars_columns.pkl')\n",
    "save_data(df_categorical_vars, '../pickles/input_data/df_categorical_vars.pkl')\n",
    "save_data(df_categorical_vars_np, '../pickles/input_data/df_categorical_vars_np.pkl')\n",
    "save_data(df_categorical_vars.columns, '../pickles/input_data/df_categorical_vars_columns.pkl')\n",
    "save_data(df_categorical_vars_raw, '../pickles/input_data/df_categorical_vars_raw.pkl')\n",
    "save_data(df_categorical_vars_raw.columns, '../pickles/input_data/df_categorical_vars_raw_columns.pkl')\n",
    "save_data(y_one_hot_labels, '../pickles/input_data/y_one_hot_labels.pkl')\n",
    "save_data(y_int_labels, '../pickles/input_data/y_int_labels.pkl')\n",
    "save_data(df_target, '../pickles/input_data/df_target.pkl')\n",
    "save_data(df_target.columns, '../pickles/input_data/df_target_columns.pkl')\n",
    "#save_data(df, '../pickles/input_data/bioBerttext_embeddings_format_3_.pkl')"
   ]
  }
 ],
 "metadata": {
  "kernelspec": {
   "display_name": ".venv",
   "language": "python",
   "name": "python3"
  },
  "language_info": {
   "codemirror_mode": {
    "name": "ipython",
    "version": 3
   },
   "file_extension": ".py",
   "mimetype": "text/x-python",
   "name": "python",
   "nbconvert_exporter": "python",
   "pygments_lexer": "ipython3",
   "version": "3.9.6"
  }
 },
 "nbformat": 4,
 "nbformat_minor": 2
}
